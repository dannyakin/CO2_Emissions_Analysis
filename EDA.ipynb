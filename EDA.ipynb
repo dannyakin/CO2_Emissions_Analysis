{
 "cells": [
  {
   "cell_type": "code",
   "execution_count": 1,
   "metadata": {},
   "outputs": [
    {
     "name": "stdout",
     "output_type": "stream",
     "text": [
      "Note: you may need to restart the kernel to use updated packages.\n"
     ]
    },
    {
     "name": "stderr",
     "output_type": "stream",
     "text": [
      "ERROR: Invalid requirement: 'folium,'\n"
     ]
    }
   ],
   "source": [
    "pip install folium, geopandas"
   ]
  },
  {
   "cell_type": "markdown",
   "metadata": {},
   "source": [
    "# 1. Problem Domain and Data Preparation"
   ]
  },
  {
   "cell_type": "markdown",
   "metadata": {},
   "source": [
    "<b>Description of Problem Domain:</b>\n",
    "\n",
    "The problem domain revolves around analysing CO2 emissions in Rwanda. This is crucial for environmental management and policy-making, especially as countries work towards reducing their carbon footprints in line with global climate goals."
   ]
  },
  {
   "cell_type": "markdown",
   "metadata": {},
   "source": [
    "<b>Motivation</b>: \n",
    "Understanding CO2 emissions helps in assessing the impact of various sectors on climate change and in formulating strategies to mitigate these effects."
   ]
  },
  {
   "cell_type": "markdown",
   "metadata": {},
   "source": [
    "<b>Dataset</b>\n",
    "The dataset comprises open-source emissions data from Sentinel-5P satellites, covering the years 2019 to 2021."
   ]
  },
  {
   "cell_type": "markdown",
   "metadata": {},
   "source": [
    "<b>Challenges Faced</b>\n",
    "1. Missing Values: Often, datasets have incomplete information.\n",
    "2. Outliers: Certain data points may not fit the expected range and can skew results.\n",
    "3. Data Size: Handling large datasets can be computationally intensive."
   ]
  },
  {
   "cell_type": "code",
   "execution_count": 2,
   "metadata": {},
   "outputs": [],
   "source": [
    "# importing required libaries\n",
    "import numpy as np \n",
    "import pandas as pd \n",
    "import matplotlib.pyplot as plt\n",
    "import seaborn as sns\n",
    "import geopandas as gpd\n",
    "import folium\n",
    "\n",
    "from sklearn.preprocessing import OneHotEncoder\n",
    "from sklearn.decomposition import PCA\n",
    "from sklearn.preprocessing import StandardScaler\n",
    "\n",
    "import datetime\n",
    "\n",
    "pd.set_option('display.max_columns', None)\n",
    "pd.set_option('display.width', None)"
   ]
  },
  {
   "cell_type": "markdown",
   "metadata": {},
   "source": [
    "#### Data loading and overview"
   ]
  },
  {
   "cell_type": "code",
   "execution_count": 3,
   "metadata": {},
   "outputs": [
    {
     "data": {
      "text/html": [
       "<div>\n",
       "<style scoped>\n",
       "    .dataframe tbody tr th:only-of-type {\n",
       "        vertical-align: middle;\n",
       "    }\n",
       "\n",
       "    .dataframe tbody tr th {\n",
       "        vertical-align: top;\n",
       "    }\n",
       "\n",
       "    .dataframe thead th {\n",
       "        text-align: right;\n",
       "    }\n",
       "</style>\n",
       "<table border=\"1\" class=\"dataframe\">\n",
       "  <thead>\n",
       "    <tr style=\"text-align: right;\">\n",
       "      <th></th>\n",
       "      <th>ID_LAT_LON_YEAR_WEEK</th>\n",
       "      <th>latitude</th>\n",
       "      <th>longitude</th>\n",
       "      <th>year</th>\n",
       "      <th>week_no</th>\n",
       "      <th>SulphurDioxide_SO2_column_number_density</th>\n",
       "      <th>SulphurDioxide_SO2_column_number_density_amf</th>\n",
       "      <th>SulphurDioxide_SO2_slant_column_number_density</th>\n",
       "      <th>SulphurDioxide_cloud_fraction</th>\n",
       "      <th>SulphurDioxide_sensor_azimuth_angle</th>\n",
       "      <th>SulphurDioxide_sensor_zenith_angle</th>\n",
       "      <th>SulphurDioxide_solar_azimuth_angle</th>\n",
       "      <th>SulphurDioxide_solar_zenith_angle</th>\n",
       "      <th>SulphurDioxide_SO2_column_number_density_15km</th>\n",
       "      <th>CarbonMonoxide_CO_column_number_density</th>\n",
       "      <th>CarbonMonoxide_H2O_column_number_density</th>\n",
       "      <th>CarbonMonoxide_cloud_height</th>\n",
       "      <th>CarbonMonoxide_sensor_altitude</th>\n",
       "      <th>CarbonMonoxide_sensor_azimuth_angle</th>\n",
       "      <th>CarbonMonoxide_sensor_zenith_angle</th>\n",
       "      <th>CarbonMonoxide_solar_azimuth_angle</th>\n",
       "      <th>CarbonMonoxide_solar_zenith_angle</th>\n",
       "      <th>NitrogenDioxide_NO2_column_number_density</th>\n",
       "      <th>NitrogenDioxide_tropospheric_NO2_column_number_density</th>\n",
       "      <th>NitrogenDioxide_stratospheric_NO2_column_number_density</th>\n",
       "      <th>NitrogenDioxide_NO2_slant_column_number_density</th>\n",
       "      <th>NitrogenDioxide_tropopause_pressure</th>\n",
       "      <th>NitrogenDioxide_absorbing_aerosol_index</th>\n",
       "      <th>NitrogenDioxide_cloud_fraction</th>\n",
       "      <th>NitrogenDioxide_sensor_altitude</th>\n",
       "      <th>NitrogenDioxide_sensor_azimuth_angle</th>\n",
       "      <th>NitrogenDioxide_sensor_zenith_angle</th>\n",
       "      <th>NitrogenDioxide_solar_azimuth_angle</th>\n",
       "      <th>NitrogenDioxide_solar_zenith_angle</th>\n",
       "      <th>Formaldehyde_tropospheric_HCHO_column_number_density</th>\n",
       "      <th>Formaldehyde_tropospheric_HCHO_column_number_density_amf</th>\n",
       "      <th>Formaldehyde_HCHO_slant_column_number_density</th>\n",
       "      <th>Formaldehyde_cloud_fraction</th>\n",
       "      <th>Formaldehyde_solar_zenith_angle</th>\n",
       "      <th>Formaldehyde_solar_azimuth_angle</th>\n",
       "      <th>Formaldehyde_sensor_zenith_angle</th>\n",
       "      <th>Formaldehyde_sensor_azimuth_angle</th>\n",
       "      <th>UvAerosolIndex_absorbing_aerosol_index</th>\n",
       "      <th>UvAerosolIndex_sensor_altitude</th>\n",
       "      <th>UvAerosolIndex_sensor_azimuth_angle</th>\n",
       "      <th>UvAerosolIndex_sensor_zenith_angle</th>\n",
       "      <th>UvAerosolIndex_solar_azimuth_angle</th>\n",
       "      <th>UvAerosolIndex_solar_zenith_angle</th>\n",
       "      <th>Ozone_O3_column_number_density</th>\n",
       "      <th>Ozone_O3_column_number_density_amf</th>\n",
       "      <th>Ozone_O3_slant_column_number_density</th>\n",
       "      <th>Ozone_O3_effective_temperature</th>\n",
       "      <th>Ozone_cloud_fraction</th>\n",
       "      <th>Ozone_sensor_azimuth_angle</th>\n",
       "      <th>Ozone_sensor_zenith_angle</th>\n",
       "      <th>Ozone_solar_azimuth_angle</th>\n",
       "      <th>Ozone_solar_zenith_angle</th>\n",
       "      <th>UvAerosolLayerHeight_aerosol_height</th>\n",
       "      <th>UvAerosolLayerHeight_aerosol_pressure</th>\n",
       "      <th>UvAerosolLayerHeight_aerosol_optical_depth</th>\n",
       "      <th>UvAerosolLayerHeight_sensor_zenith_angle</th>\n",
       "      <th>UvAerosolLayerHeight_sensor_azimuth_angle</th>\n",
       "      <th>UvAerosolLayerHeight_solar_azimuth_angle</th>\n",
       "      <th>UvAerosolLayerHeight_solar_zenith_angle</th>\n",
       "      <th>Cloud_cloud_fraction</th>\n",
       "      <th>Cloud_cloud_top_pressure</th>\n",
       "      <th>Cloud_cloud_top_height</th>\n",
       "      <th>Cloud_cloud_base_pressure</th>\n",
       "      <th>Cloud_cloud_base_height</th>\n",
       "      <th>Cloud_cloud_optical_depth</th>\n",
       "      <th>Cloud_surface_albedo</th>\n",
       "      <th>Cloud_sensor_azimuth_angle</th>\n",
       "      <th>Cloud_sensor_zenith_angle</th>\n",
       "      <th>Cloud_solar_azimuth_angle</th>\n",
       "      <th>Cloud_solar_zenith_angle</th>\n",
       "      <th>emission</th>\n",
       "    </tr>\n",
       "  </thead>\n",
       "  <tbody>\n",
       "    <tr>\n",
       "      <th>0</th>\n",
       "      <td>ID_-0.510_29.290_2019_00</td>\n",
       "      <td>-0.51</td>\n",
       "      <td>29.29</td>\n",
       "      <td>2019</td>\n",
       "      <td>0</td>\n",
       "      <td>-0.000108</td>\n",
       "      <td>0.603019</td>\n",
       "      <td>-0.000065</td>\n",
       "      <td>0.255668</td>\n",
       "      <td>-98.593887</td>\n",
       "      <td>50.843559</td>\n",
       "      <td>-130.050797</td>\n",
       "      <td>35.874496</td>\n",
       "      <td>-0.000027</td>\n",
       "      <td>0.035370</td>\n",
       "      <td>1589.024536</td>\n",
       "      <td>4061.098145</td>\n",
       "      <td>829530.500000</td>\n",
       "      <td>71.111977</td>\n",
       "      <td>52.775928</td>\n",
       "      <td>-149.875565</td>\n",
       "      <td>25.965214</td>\n",
       "      <td>NaN</td>\n",
       "      <td>NaN</td>\n",
       "      <td>NaN</td>\n",
       "      <td>NaN</td>\n",
       "      <td>NaN</td>\n",
       "      <td>NaN</td>\n",
       "      <td>NaN</td>\n",
       "      <td>NaN</td>\n",
       "      <td>NaN</td>\n",
       "      <td>NaN</td>\n",
       "      <td>NaN</td>\n",
       "      <td>NaN</td>\n",
       "      <td>0.000117</td>\n",
       "      <td>0.863230</td>\n",
       "      <td>0.000038</td>\n",
       "      <td>0.255668</td>\n",
       "      <td>35.874496</td>\n",
       "      <td>-130.050797</td>\n",
       "      <td>50.843559</td>\n",
       "      <td>-98.593887</td>\n",
       "      <td>-1.280761</td>\n",
       "      <td>829864.546875</td>\n",
       "      <td>-12.628979</td>\n",
       "      <td>35.632416</td>\n",
       "      <td>-138.786446</td>\n",
       "      <td>30.752128</td>\n",
       "      <td>0.115927</td>\n",
       "      <td>2.506609</td>\n",
       "      <td>0.295663</td>\n",
       "      <td>225.731144</td>\n",
       "      <td>0.595473</td>\n",
       "      <td>-12.628979</td>\n",
       "      <td>35.632416</td>\n",
       "      <td>-138.786446</td>\n",
       "      <td>30.752128</td>\n",
       "      <td>NaN</td>\n",
       "      <td>NaN</td>\n",
       "      <td>NaN</td>\n",
       "      <td>NaN</td>\n",
       "      <td>NaN</td>\n",
       "      <td>NaN</td>\n",
       "      <td>NaN</td>\n",
       "      <td>0.595473</td>\n",
       "      <td>53534.732422</td>\n",
       "      <td>3664.436218</td>\n",
       "      <td>61085.809570</td>\n",
       "      <td>2615.120483</td>\n",
       "      <td>15.568533</td>\n",
       "      <td>0.272292</td>\n",
       "      <td>-12.628986</td>\n",
       "      <td>35.632416</td>\n",
       "      <td>-138.786423</td>\n",
       "      <td>30.752140</td>\n",
       "      <td>3.750994</td>\n",
       "    </tr>\n",
       "    <tr>\n",
       "      <th>1</th>\n",
       "      <td>ID_-0.510_29.290_2019_01</td>\n",
       "      <td>-0.51</td>\n",
       "      <td>29.29</td>\n",
       "      <td>2019</td>\n",
       "      <td>1</td>\n",
       "      <td>0.000021</td>\n",
       "      <td>0.728214</td>\n",
       "      <td>0.000014</td>\n",
       "      <td>0.130988</td>\n",
       "      <td>16.592861</td>\n",
       "      <td>39.137194</td>\n",
       "      <td>-140.874435</td>\n",
       "      <td>28.965133</td>\n",
       "      <td>0.000012</td>\n",
       "      <td>0.036526</td>\n",
       "      <td>1772.574405</td>\n",
       "      <td>1869.040414</td>\n",
       "      <td>829787.287130</td>\n",
       "      <td>-1.019594</td>\n",
       "      <td>38.982368</td>\n",
       "      <td>-140.158048</td>\n",
       "      <td>29.562000</td>\n",
       "      <td>0.000047</td>\n",
       "      <td>1.639765e-05</td>\n",
       "      <td>0.00003</td>\n",
       "      <td>0.000093</td>\n",
       "      <td>7311.869141</td>\n",
       "      <td>-1.935386</td>\n",
       "      <td>0.067038</td>\n",
       "      <td>829859.960368</td>\n",
       "      <td>5.471037</td>\n",
       "      <td>35.265195</td>\n",
       "      <td>-138.343908</td>\n",
       "      <td>30.054262</td>\n",
       "      <td>0.000170</td>\n",
       "      <td>1.172826</td>\n",
       "      <td>0.000143</td>\n",
       "      <td>0.200754</td>\n",
       "      <td>29.071781</td>\n",
       "      <td>-141.814827</td>\n",
       "      <td>43.050213</td>\n",
       "      <td>4.678839</td>\n",
       "      <td>-1.548119</td>\n",
       "      <td>829747.856973</td>\n",
       "      <td>16.152492</td>\n",
       "      <td>43.485327</td>\n",
       "      <td>-142.786141</td>\n",
       "      <td>28.573627</td>\n",
       "      <td>0.116775</td>\n",
       "      <td>2.657704</td>\n",
       "      <td>0.315733</td>\n",
       "      <td>226.172170</td>\n",
       "      <td>0.175166</td>\n",
       "      <td>24.464335</td>\n",
       "      <td>42.596541</td>\n",
       "      <td>-143.097868</td>\n",
       "      <td>28.213655</td>\n",
       "      <td>NaN</td>\n",
       "      <td>NaN</td>\n",
       "      <td>NaN</td>\n",
       "      <td>NaN</td>\n",
       "      <td>NaN</td>\n",
       "      <td>NaN</td>\n",
       "      <td>NaN</td>\n",
       "      <td>0.213608</td>\n",
       "      <td>63790.296241</td>\n",
       "      <td>3651.190311</td>\n",
       "      <td>66969.478735</td>\n",
       "      <td>3174.572424</td>\n",
       "      <td>8.690601</td>\n",
       "      <td>0.256830</td>\n",
       "      <td>30.359375</td>\n",
       "      <td>39.557633</td>\n",
       "      <td>-145.183930</td>\n",
       "      <td>27.251779</td>\n",
       "      <td>4.025176</td>\n",
       "    </tr>\n",
       "    <tr>\n",
       "      <th>2</th>\n",
       "      <td>ID_-0.510_29.290_2019_02</td>\n",
       "      <td>-0.51</td>\n",
       "      <td>29.29</td>\n",
       "      <td>2019</td>\n",
       "      <td>2</td>\n",
       "      <td>0.000514</td>\n",
       "      <td>0.748199</td>\n",
       "      <td>0.000385</td>\n",
       "      <td>0.110018</td>\n",
       "      <td>72.795837</td>\n",
       "      <td>52.868816</td>\n",
       "      <td>-150.191757</td>\n",
       "      <td>23.206415</td>\n",
       "      <td>0.000154</td>\n",
       "      <td>0.035338</td>\n",
       "      <td>2703.236800</td>\n",
       "      <td>2809.138386</td>\n",
       "      <td>829883.828686</td>\n",
       "      <td>-54.801144</td>\n",
       "      <td>52.344378</td>\n",
       "      <td>-133.683714</td>\n",
       "      <td>31.586838</td>\n",
       "      <td>0.000031</td>\n",
       "      <td>4.267369e-07</td>\n",
       "      <td>0.00003</td>\n",
       "      <td>0.000080</td>\n",
       "      <td>7311.869141</td>\n",
       "      <td>-2.754374</td>\n",
       "      <td>0.072135</td>\n",
       "      <td>829527.125000</td>\n",
       "      <td>72.795837</td>\n",
       "      <td>52.868816</td>\n",
       "      <td>-150.191757</td>\n",
       "      <td>23.206415</td>\n",
       "      <td>0.000080</td>\n",
       "      <td>1.175467</td>\n",
       "      <td>0.000019</td>\n",
       "      <td>0.279449</td>\n",
       "      <td>30.994290</td>\n",
       "      <td>-135.667160</td>\n",
       "      <td>52.810561</td>\n",
       "      <td>-41.363579</td>\n",
       "      <td>-1.038673</td>\n",
       "      <td>829892.960629</td>\n",
       "      <td>-41.557633</td>\n",
       "      <td>41.269033</td>\n",
       "      <td>-135.364627</td>\n",
       "      <td>30.273304</td>\n",
       "      <td>0.117039</td>\n",
       "      <td>2.619104</td>\n",
       "      <td>0.310828</td>\n",
       "      <td>227.469292</td>\n",
       "      <td>0.606091</td>\n",
       "      <td>-41.557633</td>\n",
       "      <td>41.269033</td>\n",
       "      <td>-135.364627</td>\n",
       "      <td>30.273304</td>\n",
       "      <td>NaN</td>\n",
       "      <td>NaN</td>\n",
       "      <td>NaN</td>\n",
       "      <td>NaN</td>\n",
       "      <td>NaN</td>\n",
       "      <td>NaN</td>\n",
       "      <td>NaN</td>\n",
       "      <td>0.703540</td>\n",
       "      <td>55923.790554</td>\n",
       "      <td>4216.986492</td>\n",
       "      <td>60068.894448</td>\n",
       "      <td>3516.282669</td>\n",
       "      <td>21.103410</td>\n",
       "      <td>0.251101</td>\n",
       "      <td>15.377883</td>\n",
       "      <td>30.401823</td>\n",
       "      <td>-142.519545</td>\n",
       "      <td>26.193296</td>\n",
       "      <td>4.231381</td>\n",
       "    </tr>\n",
       "    <tr>\n",
       "      <th>3</th>\n",
       "      <td>ID_-0.510_29.290_2019_03</td>\n",
       "      <td>-0.51</td>\n",
       "      <td>29.29</td>\n",
       "      <td>2019</td>\n",
       "      <td>3</td>\n",
       "      <td>NaN</td>\n",
       "      <td>NaN</td>\n",
       "      <td>NaN</td>\n",
       "      <td>NaN</td>\n",
       "      <td>NaN</td>\n",
       "      <td>NaN</td>\n",
       "      <td>NaN</td>\n",
       "      <td>NaN</td>\n",
       "      <td>NaN</td>\n",
       "      <td>0.036790</td>\n",
       "      <td>2076.073332</td>\n",
       "      <td>3917.707873</td>\n",
       "      <td>829657.163571</td>\n",
       "      <td>28.916541</td>\n",
       "      <td>39.676184</td>\n",
       "      <td>-142.575915</td>\n",
       "      <td>24.810699</td>\n",
       "      <td>NaN</td>\n",
       "      <td>NaN</td>\n",
       "      <td>NaN</td>\n",
       "      <td>NaN</td>\n",
       "      <td>NaN</td>\n",
       "      <td>NaN</td>\n",
       "      <td>NaN</td>\n",
       "      <td>NaN</td>\n",
       "      <td>NaN</td>\n",
       "      <td>NaN</td>\n",
       "      <td>NaN</td>\n",
       "      <td>NaN</td>\n",
       "      <td>NaN</td>\n",
       "      <td>NaN</td>\n",
       "      <td>NaN</td>\n",
       "      <td>NaN</td>\n",
       "      <td>NaN</td>\n",
       "      <td>NaN</td>\n",
       "      <td>NaN</td>\n",
       "      <td>NaN</td>\n",
       "      <td>-0.626435</td>\n",
       "      <td>829794.848214</td>\n",
       "      <td>-0.001270</td>\n",
       "      <td>34.458740</td>\n",
       "      <td>-137.489602</td>\n",
       "      <td>26.936477</td>\n",
       "      <td>0.116434</td>\n",
       "      <td>2.525818</td>\n",
       "      <td>0.297966</td>\n",
       "      <td>225.589440</td>\n",
       "      <td>0.787398</td>\n",
       "      <td>-0.001270</td>\n",
       "      <td>34.458740</td>\n",
       "      <td>-137.489602</td>\n",
       "      <td>26.936477</td>\n",
       "      <td>NaN</td>\n",
       "      <td>NaN</td>\n",
       "      <td>NaN</td>\n",
       "      <td>NaN</td>\n",
       "      <td>NaN</td>\n",
       "      <td>NaN</td>\n",
       "      <td>NaN</td>\n",
       "      <td>0.782806</td>\n",
       "      <td>44569.130636</td>\n",
       "      <td>5228.507736</td>\n",
       "      <td>51064.547339</td>\n",
       "      <td>4180.973322</td>\n",
       "      <td>15.386899</td>\n",
       "      <td>0.262043</td>\n",
       "      <td>-11.293399</td>\n",
       "      <td>24.380357</td>\n",
       "      <td>-132.665828</td>\n",
       "      <td>28.829155</td>\n",
       "      <td>4.305286</td>\n",
       "    </tr>\n",
       "    <tr>\n",
       "      <th>4</th>\n",
       "      <td>ID_-0.510_29.290_2019_04</td>\n",
       "      <td>-0.51</td>\n",
       "      <td>29.29</td>\n",
       "      <td>2019</td>\n",
       "      <td>4</td>\n",
       "      <td>-0.000079</td>\n",
       "      <td>0.676296</td>\n",
       "      <td>-0.000048</td>\n",
       "      <td>0.121164</td>\n",
       "      <td>4.121269</td>\n",
       "      <td>35.515587</td>\n",
       "      <td>-137.409159</td>\n",
       "      <td>24.331972</td>\n",
       "      <td>-0.000028</td>\n",
       "      <td>0.034675</td>\n",
       "      <td>2053.608490</td>\n",
       "      <td>2667.310013</td>\n",
       "      <td>829735.093750</td>\n",
       "      <td>-12.501663</td>\n",
       "      <td>33.703073</td>\n",
       "      <td>-134.854258</td>\n",
       "      <td>24.629593</td>\n",
       "      <td>0.000051</td>\n",
       "      <td>2.056437e-05</td>\n",
       "      <td>0.00003</td>\n",
       "      <td>0.000093</td>\n",
       "      <td>7637.262458</td>\n",
       "      <td>-1.450563</td>\n",
       "      <td>0.049393</td>\n",
       "      <td>829744.843750</td>\n",
       "      <td>-13.431798</td>\n",
       "      <td>35.078624</td>\n",
       "      <td>-136.257947</td>\n",
       "      <td>24.729026</td>\n",
       "      <td>0.000269</td>\n",
       "      <td>0.869081</td>\n",
       "      <td>0.000146</td>\n",
       "      <td>0.160090</td>\n",
       "      <td>25.977935</td>\n",
       "      <td>-134.826557</td>\n",
       "      <td>39.949069</td>\n",
       "      <td>-12.837398</td>\n",
       "      <td>-1.584896</td>\n",
       "      <td>829736.142857</td>\n",
       "      <td>-0.604325</td>\n",
       "      <td>41.794705</td>\n",
       "      <td>-136.448518</td>\n",
       "      <td>25.045785</td>\n",
       "      <td>0.117373</td>\n",
       "      <td>2.572243</td>\n",
       "      <td>0.306688</td>\n",
       "      <td>228.955840</td>\n",
       "      <td>0.215739</td>\n",
       "      <td>-0.604325</td>\n",
       "      <td>41.794705</td>\n",
       "      <td>-136.448518</td>\n",
       "      <td>25.045785</td>\n",
       "      <td>NaN</td>\n",
       "      <td>NaN</td>\n",
       "      <td>NaN</td>\n",
       "      <td>NaN</td>\n",
       "      <td>NaN</td>\n",
       "      <td>NaN</td>\n",
       "      <td>NaN</td>\n",
       "      <td>0.189336</td>\n",
       "      <td>59904.314844</td>\n",
       "      <td>3980.598120</td>\n",
       "      <td>63751.125781</td>\n",
       "      <td>3355.710107</td>\n",
       "      <td>8.114694</td>\n",
       "      <td>0.235847</td>\n",
       "      <td>38.532263</td>\n",
       "      <td>37.392979</td>\n",
       "      <td>-141.509805</td>\n",
       "      <td>22.204612</td>\n",
       "      <td>4.347317</td>\n",
       "    </tr>\n",
       "  </tbody>\n",
       "</table>\n",
       "</div>"
      ],
      "text/plain": [
       "       ID_LAT_LON_YEAR_WEEK  latitude  longitude  year  week_no  \\\n",
       "0  ID_-0.510_29.290_2019_00     -0.51      29.29  2019        0   \n",
       "1  ID_-0.510_29.290_2019_01     -0.51      29.29  2019        1   \n",
       "2  ID_-0.510_29.290_2019_02     -0.51      29.29  2019        2   \n",
       "3  ID_-0.510_29.290_2019_03     -0.51      29.29  2019        3   \n",
       "4  ID_-0.510_29.290_2019_04     -0.51      29.29  2019        4   \n",
       "\n",
       "   SulphurDioxide_SO2_column_number_density  \\\n",
       "0                                 -0.000108   \n",
       "1                                  0.000021   \n",
       "2                                  0.000514   \n",
       "3                                       NaN   \n",
       "4                                 -0.000079   \n",
       "\n",
       "   SulphurDioxide_SO2_column_number_density_amf  \\\n",
       "0                                      0.603019   \n",
       "1                                      0.728214   \n",
       "2                                      0.748199   \n",
       "3                                           NaN   \n",
       "4                                      0.676296   \n",
       "\n",
       "   SulphurDioxide_SO2_slant_column_number_density  \\\n",
       "0                                       -0.000065   \n",
       "1                                        0.000014   \n",
       "2                                        0.000385   \n",
       "3                                             NaN   \n",
       "4                                       -0.000048   \n",
       "\n",
       "   SulphurDioxide_cloud_fraction  SulphurDioxide_sensor_azimuth_angle  \\\n",
       "0                       0.255668                           -98.593887   \n",
       "1                       0.130988                            16.592861   \n",
       "2                       0.110018                            72.795837   \n",
       "3                            NaN                                  NaN   \n",
       "4                       0.121164                             4.121269   \n",
       "\n",
       "   SulphurDioxide_sensor_zenith_angle  SulphurDioxide_solar_azimuth_angle  \\\n",
       "0                           50.843559                         -130.050797   \n",
       "1                           39.137194                         -140.874435   \n",
       "2                           52.868816                         -150.191757   \n",
       "3                                 NaN                                 NaN   \n",
       "4                           35.515587                         -137.409159   \n",
       "\n",
       "   SulphurDioxide_solar_zenith_angle  \\\n",
       "0                          35.874496   \n",
       "1                          28.965133   \n",
       "2                          23.206415   \n",
       "3                                NaN   \n",
       "4                          24.331972   \n",
       "\n",
       "   SulphurDioxide_SO2_column_number_density_15km  \\\n",
       "0                                      -0.000027   \n",
       "1                                       0.000012   \n",
       "2                                       0.000154   \n",
       "3                                            NaN   \n",
       "4                                      -0.000028   \n",
       "\n",
       "   CarbonMonoxide_CO_column_number_density  \\\n",
       "0                                 0.035370   \n",
       "1                                 0.036526   \n",
       "2                                 0.035338   \n",
       "3                                 0.036790   \n",
       "4                                 0.034675   \n",
       "\n",
       "   CarbonMonoxide_H2O_column_number_density  CarbonMonoxide_cloud_height  \\\n",
       "0                               1589.024536                  4061.098145   \n",
       "1                               1772.574405                  1869.040414   \n",
       "2                               2703.236800                  2809.138386   \n",
       "3                               2076.073332                  3917.707873   \n",
       "4                               2053.608490                  2667.310013   \n",
       "\n",
       "   CarbonMonoxide_sensor_altitude  CarbonMonoxide_sensor_azimuth_angle  \\\n",
       "0                   829530.500000                            71.111977   \n",
       "1                   829787.287130                            -1.019594   \n",
       "2                   829883.828686                           -54.801144   \n",
       "3                   829657.163571                            28.916541   \n",
       "4                   829735.093750                           -12.501663   \n",
       "\n",
       "   CarbonMonoxide_sensor_zenith_angle  CarbonMonoxide_solar_azimuth_angle  \\\n",
       "0                           52.775928                         -149.875565   \n",
       "1                           38.982368                         -140.158048   \n",
       "2                           52.344378                         -133.683714   \n",
       "3                           39.676184                         -142.575915   \n",
       "4                           33.703073                         -134.854258   \n",
       "\n",
       "   CarbonMonoxide_solar_zenith_angle  \\\n",
       "0                          25.965214   \n",
       "1                          29.562000   \n",
       "2                          31.586838   \n",
       "3                          24.810699   \n",
       "4                          24.629593   \n",
       "\n",
       "   NitrogenDioxide_NO2_column_number_density  \\\n",
       "0                                        NaN   \n",
       "1                                   0.000047   \n",
       "2                                   0.000031   \n",
       "3                                        NaN   \n",
       "4                                   0.000051   \n",
       "\n",
       "   NitrogenDioxide_tropospheric_NO2_column_number_density  \\\n",
       "0                                                NaN        \n",
       "1                                       1.639765e-05        \n",
       "2                                       4.267369e-07        \n",
       "3                                                NaN        \n",
       "4                                       2.056437e-05        \n",
       "\n",
       "   NitrogenDioxide_stratospheric_NO2_column_number_density  \\\n",
       "0                                                NaN         \n",
       "1                                            0.00003         \n",
       "2                                            0.00003         \n",
       "3                                                NaN         \n",
       "4                                            0.00003         \n",
       "\n",
       "   NitrogenDioxide_NO2_slant_column_number_density  \\\n",
       "0                                              NaN   \n",
       "1                                         0.000093   \n",
       "2                                         0.000080   \n",
       "3                                              NaN   \n",
       "4                                         0.000093   \n",
       "\n",
       "   NitrogenDioxide_tropopause_pressure  \\\n",
       "0                                  NaN   \n",
       "1                          7311.869141   \n",
       "2                          7311.869141   \n",
       "3                                  NaN   \n",
       "4                          7637.262458   \n",
       "\n",
       "   NitrogenDioxide_absorbing_aerosol_index  NitrogenDioxide_cloud_fraction  \\\n",
       "0                                      NaN                             NaN   \n",
       "1                                -1.935386                        0.067038   \n",
       "2                                -2.754374                        0.072135   \n",
       "3                                      NaN                             NaN   \n",
       "4                                -1.450563                        0.049393   \n",
       "\n",
       "   NitrogenDioxide_sensor_altitude  NitrogenDioxide_sensor_azimuth_angle  \\\n",
       "0                              NaN                                   NaN   \n",
       "1                    829859.960368                              5.471037   \n",
       "2                    829527.125000                             72.795837   \n",
       "3                              NaN                                   NaN   \n",
       "4                    829744.843750                            -13.431798   \n",
       "\n",
       "   NitrogenDioxide_sensor_zenith_angle  NitrogenDioxide_solar_azimuth_angle  \\\n",
       "0                                  NaN                                  NaN   \n",
       "1                            35.265195                          -138.343908   \n",
       "2                            52.868816                          -150.191757   \n",
       "3                                  NaN                                  NaN   \n",
       "4                            35.078624                          -136.257947   \n",
       "\n",
       "   NitrogenDioxide_solar_zenith_angle  \\\n",
       "0                                 NaN   \n",
       "1                           30.054262   \n",
       "2                           23.206415   \n",
       "3                                 NaN   \n",
       "4                           24.729026   \n",
       "\n",
       "   Formaldehyde_tropospheric_HCHO_column_number_density  \\\n",
       "0                                           0.000117      \n",
       "1                                           0.000170      \n",
       "2                                           0.000080      \n",
       "3                                                NaN      \n",
       "4                                           0.000269      \n",
       "\n",
       "   Formaldehyde_tropospheric_HCHO_column_number_density_amf  \\\n",
       "0                                           0.863230          \n",
       "1                                           1.172826          \n",
       "2                                           1.175467          \n",
       "3                                                NaN          \n",
       "4                                           0.869081          \n",
       "\n",
       "   Formaldehyde_HCHO_slant_column_number_density  Formaldehyde_cloud_fraction  \\\n",
       "0                                       0.000038                     0.255668   \n",
       "1                                       0.000143                     0.200754   \n",
       "2                                       0.000019                     0.279449   \n",
       "3                                            NaN                          NaN   \n",
       "4                                       0.000146                     0.160090   \n",
       "\n",
       "   Formaldehyde_solar_zenith_angle  Formaldehyde_solar_azimuth_angle  \\\n",
       "0                        35.874496                       -130.050797   \n",
       "1                        29.071781                       -141.814827   \n",
       "2                        30.994290                       -135.667160   \n",
       "3                              NaN                               NaN   \n",
       "4                        25.977935                       -134.826557   \n",
       "\n",
       "   Formaldehyde_sensor_zenith_angle  Formaldehyde_sensor_azimuth_angle  \\\n",
       "0                         50.843559                         -98.593887   \n",
       "1                         43.050213                           4.678839   \n",
       "2                         52.810561                         -41.363579   \n",
       "3                               NaN                                NaN   \n",
       "4                         39.949069                         -12.837398   \n",
       "\n",
       "   UvAerosolIndex_absorbing_aerosol_index  UvAerosolIndex_sensor_altitude  \\\n",
       "0                               -1.280761                   829864.546875   \n",
       "1                               -1.548119                   829747.856973   \n",
       "2                               -1.038673                   829892.960629   \n",
       "3                               -0.626435                   829794.848214   \n",
       "4                               -1.584896                   829736.142857   \n",
       "\n",
       "   UvAerosolIndex_sensor_azimuth_angle  UvAerosolIndex_sensor_zenith_angle  \\\n",
       "0                           -12.628979                           35.632416   \n",
       "1                            16.152492                           43.485327   \n",
       "2                           -41.557633                           41.269033   \n",
       "3                            -0.001270                           34.458740   \n",
       "4                            -0.604325                           41.794705   \n",
       "\n",
       "   UvAerosolIndex_solar_azimuth_angle  UvAerosolIndex_solar_zenith_angle  \\\n",
       "0                         -138.786446                          30.752128   \n",
       "1                         -142.786141                          28.573627   \n",
       "2                         -135.364627                          30.273304   \n",
       "3                         -137.489602                          26.936477   \n",
       "4                         -136.448518                          25.045785   \n",
       "\n",
       "   Ozone_O3_column_number_density  Ozone_O3_column_number_density_amf  \\\n",
       "0                        0.115927                            2.506609   \n",
       "1                        0.116775                            2.657704   \n",
       "2                        0.117039                            2.619104   \n",
       "3                        0.116434                            2.525818   \n",
       "4                        0.117373                            2.572243   \n",
       "\n",
       "   Ozone_O3_slant_column_number_density  Ozone_O3_effective_temperature  \\\n",
       "0                              0.295663                      225.731144   \n",
       "1                              0.315733                      226.172170   \n",
       "2                              0.310828                      227.469292   \n",
       "3                              0.297966                      225.589440   \n",
       "4                              0.306688                      228.955840   \n",
       "\n",
       "   Ozone_cloud_fraction  Ozone_sensor_azimuth_angle  \\\n",
       "0              0.595473                  -12.628979   \n",
       "1              0.175166                   24.464335   \n",
       "2              0.606091                  -41.557633   \n",
       "3              0.787398                   -0.001270   \n",
       "4              0.215739                   -0.604325   \n",
       "\n",
       "   Ozone_sensor_zenith_angle  Ozone_solar_azimuth_angle  \\\n",
       "0                  35.632416                -138.786446   \n",
       "1                  42.596541                -143.097868   \n",
       "2                  41.269033                -135.364627   \n",
       "3                  34.458740                -137.489602   \n",
       "4                  41.794705                -136.448518   \n",
       "\n",
       "   Ozone_solar_zenith_angle  UvAerosolLayerHeight_aerosol_height  \\\n",
       "0                 30.752128                                  NaN   \n",
       "1                 28.213655                                  NaN   \n",
       "2                 30.273304                                  NaN   \n",
       "3                 26.936477                                  NaN   \n",
       "4                 25.045785                                  NaN   \n",
       "\n",
       "   UvAerosolLayerHeight_aerosol_pressure  \\\n",
       "0                                    NaN   \n",
       "1                                    NaN   \n",
       "2                                    NaN   \n",
       "3                                    NaN   \n",
       "4                                    NaN   \n",
       "\n",
       "   UvAerosolLayerHeight_aerosol_optical_depth  \\\n",
       "0                                         NaN   \n",
       "1                                         NaN   \n",
       "2                                         NaN   \n",
       "3                                         NaN   \n",
       "4                                         NaN   \n",
       "\n",
       "   UvAerosolLayerHeight_sensor_zenith_angle  \\\n",
       "0                                       NaN   \n",
       "1                                       NaN   \n",
       "2                                       NaN   \n",
       "3                                       NaN   \n",
       "4                                       NaN   \n",
       "\n",
       "   UvAerosolLayerHeight_sensor_azimuth_angle  \\\n",
       "0                                        NaN   \n",
       "1                                        NaN   \n",
       "2                                        NaN   \n",
       "3                                        NaN   \n",
       "4                                        NaN   \n",
       "\n",
       "   UvAerosolLayerHeight_solar_azimuth_angle  \\\n",
       "0                                       NaN   \n",
       "1                                       NaN   \n",
       "2                                       NaN   \n",
       "3                                       NaN   \n",
       "4                                       NaN   \n",
       "\n",
       "   UvAerosolLayerHeight_solar_zenith_angle  Cloud_cloud_fraction  \\\n",
       "0                                      NaN              0.595473   \n",
       "1                                      NaN              0.213608   \n",
       "2                                      NaN              0.703540   \n",
       "3                                      NaN              0.782806   \n",
       "4                                      NaN              0.189336   \n",
       "\n",
       "   Cloud_cloud_top_pressure  Cloud_cloud_top_height  \\\n",
       "0              53534.732422             3664.436218   \n",
       "1              63790.296241             3651.190311   \n",
       "2              55923.790554             4216.986492   \n",
       "3              44569.130636             5228.507736   \n",
       "4              59904.314844             3980.598120   \n",
       "\n",
       "   Cloud_cloud_base_pressure  Cloud_cloud_base_height  \\\n",
       "0               61085.809570              2615.120483   \n",
       "1               66969.478735              3174.572424   \n",
       "2               60068.894448              3516.282669   \n",
       "3               51064.547339              4180.973322   \n",
       "4               63751.125781              3355.710107   \n",
       "\n",
       "   Cloud_cloud_optical_depth  Cloud_surface_albedo  \\\n",
       "0                  15.568533              0.272292   \n",
       "1                   8.690601              0.256830   \n",
       "2                  21.103410              0.251101   \n",
       "3                  15.386899              0.262043   \n",
       "4                   8.114694              0.235847   \n",
       "\n",
       "   Cloud_sensor_azimuth_angle  Cloud_sensor_zenith_angle  \\\n",
       "0                  -12.628986                  35.632416   \n",
       "1                   30.359375                  39.557633   \n",
       "2                   15.377883                  30.401823   \n",
       "3                  -11.293399                  24.380357   \n",
       "4                   38.532263                  37.392979   \n",
       "\n",
       "   Cloud_solar_azimuth_angle  Cloud_solar_zenith_angle  emission  \n",
       "0                -138.786423                 30.752140  3.750994  \n",
       "1                -145.183930                 27.251779  4.025176  \n",
       "2                -142.519545                 26.193296  4.231381  \n",
       "3                -132.665828                 28.829155  4.305286  \n",
       "4                -141.509805                 22.204612  4.347317  "
      ]
     },
     "execution_count": 3,
     "metadata": {},
     "output_type": "execute_result"
    }
   ],
   "source": [
    "data = pd.read_csv('data/dataset.csv')\n",
    "data.head()"
   ]
  },
  {
   "cell_type": "code",
   "execution_count": 4,
   "metadata": {},
   "outputs": [
    {
     "data": {
      "text/plain": [
       "(79023, 76)"
      ]
     },
     "execution_count": 4,
     "metadata": {},
     "output_type": "execute_result"
    }
   ],
   "source": [
    "data.shape"
   ]
  },
  {
   "cell_type": "markdown",
   "metadata": {},
   "source": [
    "Dataset description\n",
    "\n",
    "Each data point, or row, in the dataset is characterized by four location-based indices (latitude, longitude, year, and week number), 70 descriptive features, and a target variable representing emissions.\n",
    "\n",
    "Feature Groups:\n",
    "The 70 features are organized into eight distinct groups, each with a varying number of elements.\n",
    "\n",
    "1. Sulfur Dioxide\n",
    "2. Carbon Monoxide\n",
    "3. Nitrogen Dioxide\n",
    "4. Formaldehyde\n",
    "5. UV Aerosol Index \n",
    "6. Ozone\n",
    "7. Cloud\n",
    "8. UvAerosolLayerHeight\n",
    "\n",
    "more information about the dataset description can be found <a href='https://developers.google.com/earth-engine/datasets/catalog/COPERNICUS_S5P_NRTI_L3_SO2?hl=en#bands'>here</a>"
   ]
  },
  {
   "cell_type": "markdown",
   "metadata": {},
   "source": [
    "### Data cleaning\n"
   ]
  },
  {
   "cell_type": "markdown",
   "metadata": {},
   "source": [
    "1. Missing values:\n",
    "\n",
    "UvAerosolLayerHeigh columns contain a high ratio of missing data points, so they would be dropped off.\n",
    "\n",
    "2. Categorical features:\n",
    "\n",
    "'week no' and 'year' would be classified as categorical data."
   ]
  },
  {
   "cell_type": "code",
   "execution_count": null,
   "metadata": {},
   "outputs": [
    {
     "data": {
      "text/plain": [
       "UvAerosolLayerHeight_aerosol_height           78584\n",
       "UvAerosolLayerHeight_aerosol_pressure         78584\n",
       "UvAerosolLayerHeight_aerosol_optical_depth    78584\n",
       "UvAerosolLayerHeight_sensor_zenith_angle      78584\n",
       "UvAerosolLayerHeight_sensor_azimuth_angle     78584\n",
       "UvAerosolLayerHeight_solar_azimuth_angle      78584\n",
       "UvAerosolLayerHeight_solar_zenith_angle       78584\n",
       "dtype: int64"
      ]
     },
     "metadata": {},
     "output_type": "display_data"
    }
   ],
   "source": [
    "UvAerosolLayerHeigh_columns = []\n",
    "for column in data.columns:\n",
    "    if 'UvAerosolLayerHeigh' in column:\n",
    "        UvAerosolLayerHeigh_columns.append(column)\n",
    "\n",
    "\n",
    "with pd.option_context(\"display.min_rows\", 10):\n",
    "    display(data[UvAerosolLayerHeigh_columns].isna().sum().sort_values())"
   ]
  },
  {
   "cell_type": "code",
   "execution_count": 6,
   "metadata": {},
   "outputs": [],
   "source": [
    "data.drop(columns=data[UvAerosolLayerHeigh_columns], axis=1, inplace=True)"
   ]
  },
  {
   "cell_type": "code",
   "execution_count": 7,
   "metadata": {},
   "outputs": [],
   "source": [
    "# Categorical data\n",
    "categorical_data = ['year', 'week_no']\n",
    "for column in categorical_data:\n",
    "    data[column] = data[column].astype('category')"
   ]
  },
  {
   "cell_type": "markdown",
   "metadata": {},
   "source": [
    "# 2. Exploratory Data Analysis (EDA)"
   ]
  },
  {
   "cell_type": "markdown",
   "metadata": {},
   "source": [
    "1. Outliers: \n",
    "\n",
    "Sudden spikes in emissions data could be erroneous or due to unusual events."
   ]
  },
  {
   "cell_type": "code",
   "execution_count": 8,
   "metadata": {},
   "outputs": [
    {
     "data": {
      "image/png": "[encoded data removed]",
      "text/plain": [
       "<Figure size 640x480 with 1 Axes>"
      ]
     },
     "metadata": {},
     "output_type": "display_data"
    }
   ],
   "source": [
    "sns.boxplot(data.emission)\n",
    "plt.title('CO2 emission outliers')  \n",
    "plt.show()"
   ]
  },
  {
   "cell_type": "code",
   "execution_count": 9,
   "metadata": {},
   "outputs": [
    {
     "name": "stderr",
     "output_type": "stream",
     "text": [
      "c:\\Users\\HomePC\\anaconda3\\Lib\\site-packages\\seaborn\\_oldcore.py:1119: FutureWarning: use_inf_as_na option is deprecated and will be removed in a future version. Convert inf values to NaN before operating instead.\n",
      "  with pd.option_context('mode.use_inf_as_na', True):\n",
      "c:\\Users\\HomePC\\anaconda3\\Lib\\site-packages\\seaborn\\_oldcore.py:1119: FutureWarning: use_inf_as_na option is deprecated and will be removed in a future version. Convert inf values to NaN before operating instead.\n",
      "  with pd.option_context('mode.use_inf_as_na', True):\n"
     ]
    },
    {
     "data": {
      "image/png": "[encoded data removed]",
      "text/plain": [
       "<Figure size 640x480 with 1 Axes>"
      ]
     },
     "metadata": {},
     "output_type": "display_data"
    }
   ],
   "source": [
    "sns.lineplot(data = data, x = 'week_no', y = 'emission', errorbar = None)\n",
    "plt.title('Emission Over Week')\n",
    "plt.show()"
   ]
  },
  {
   "cell_type": "code",
   "execution_count": 10,
   "metadata": {},
   "outputs": [
    {
     "name": "stderr",
     "output_type": "stream",
     "text": [
      "c:\\Users\\HomePC\\anaconda3\\Lib\\site-packages\\seaborn\\_oldcore.py:1119: FutureWarning: use_inf_as_na option is deprecated and will be removed in a future version. Convert inf values to NaN before operating instead.\n",
      "  with pd.option_context('mode.use_inf_as_na', True):\n",
      "c:\\Users\\HomePC\\anaconda3\\Lib\\site-packages\\seaborn\\_oldcore.py:1119: FutureWarning: use_inf_as_na option is deprecated and will be removed in a future version. Convert inf values to NaN before operating instead.\n",
      "  with pd.option_context('mode.use_inf_as_na', True):\n"
     ]
    },
    {
     "data": {
      "image/png": "[encoded data removed]",
      "text/plain": [
       "<Figure size 640x480 with 1 Axes>"
      ]
     },
     "metadata": {},
     "output_type": "display_data"
    }
   ],
   "source": [
    "sns.lineplot(data = data, x = 'year', y = 'emission', errorbar = None)\n",
    "plt.title('Emission Over Year')\n",
    "plt.show()"
   ]
  },
  {
   "cell_type": "markdown",
   "metadata": {},
   "source": [
    "2. Locations:\n",
    "\n",
    "There are 497 locations in the dataset"
   ]
  },
  {
   "cell_type": "code",
   "execution_count": 11,
   "metadata": {},
   "outputs": [
    {
     "data": {
      "text/plain": [
       "latitude  longitude\n",
       "-3.299    30.301       159\n",
       "-1.444    30.856       159\n",
       "-1.450    29.350       159\n",
       "-1.482    30.618       159\n",
       "-1.486    29.614       159\n",
       "dtype: int64"
      ]
     },
     "execution_count": 11,
     "metadata": {},
     "output_type": "execute_result"
    }
   ],
   "source": [
    "locations = data.groupby(['latitude', 'longitude']).size().sort_values()\n",
    "locations.head()"
   ]
  },
  {
   "cell_type": "code",
   "execution_count": 12,
   "metadata": {},
   "outputs": [
    {
     "data": {
      "text/plain": [
       "497"
      ]
     },
     "execution_count": 12,
     "metadata": {},
     "output_type": "execute_result"
    }
   ],
   "source": [
    "len(locations)"
   ]
  },
  {
   "cell_type": "code",
   "execution_count": 13,
   "metadata": {},
   "outputs": [
    {
     "data": {
      "image/png": "[encoded data removed]",
      "text/plain": [
       "<Figure size 640x480 with 1 Axes>"
      ]
     },
     "metadata": {},
     "output_type": "display_data"
    }
   ],
   "source": [
    "plt.title(\"The 497 sensor devices\")\n",
    "plt.scatter(data.longitude, data.latitude, s=3)\n",
    "plt.xlabel('longitude')\n",
    "plt.ylabel('latitude')\n",
    "plt.show()"
   ]
  },
  {
   "cell_type": "markdown",
   "metadata": {},
   "source": [
    "3. Geo Visualization"
   ]
  },
  {
   "cell_type": "code",
   "execution_count": 14,
   "metadata": {},
   "outputs": [
    {
     "data": {
      "text/html": [
       "<div>\n",
       "<style scoped>\n",
       "    .dataframe tbody tr th:only-of-type {\n",
       "        vertical-align: middle;\n",
       "    }\n",
       "\n",
       "    .dataframe tbody tr th {\n",
       "        vertical-align: top;\n",
       "    }\n",
       "\n",
       "    .dataframe thead th {\n",
       "        text-align: right;\n",
       "    }\n",
       "</style>\n",
       "<table border=\"1\" class=\"dataframe\">\n",
       "  <thead>\n",
       "    <tr style=\"text-align: right;\">\n",
       "      <th></th>\n",
       "      <th>latitude</th>\n",
       "      <th>longitude</th>\n",
       "      <th>geometry</th>\n",
       "    </tr>\n",
       "  </thead>\n",
       "  <tbody>\n",
       "    <tr>\n",
       "      <th>0</th>\n",
       "      <td>-0.51</td>\n",
       "      <td>29.29</td>\n",
       "      <td>POINT (29.29 -0.51)</td>\n",
       "    </tr>\n",
       "    <tr>\n",
       "      <th>1</th>\n",
       "      <td>-0.51</td>\n",
       "      <td>29.29</td>\n",
       "      <td>POINT (29.29 -0.51)</td>\n",
       "    </tr>\n",
       "    <tr>\n",
       "      <th>2</th>\n",
       "      <td>-0.51</td>\n",
       "      <td>29.29</td>\n",
       "      <td>POINT (29.29 -0.51)</td>\n",
       "    </tr>\n",
       "    <tr>\n",
       "      <th>3</th>\n",
       "      <td>-0.51</td>\n",
       "      <td>29.29</td>\n",
       "      <td>POINT (29.29 -0.51)</td>\n",
       "    </tr>\n",
       "    <tr>\n",
       "      <th>4</th>\n",
       "      <td>-0.51</td>\n",
       "      <td>29.29</td>\n",
       "      <td>POINT (29.29 -0.51)</td>\n",
       "    </tr>\n",
       "  </tbody>\n",
       "</table>\n",
       "</div>"
      ],
      "text/plain": [
       "   latitude  longitude             geometry\n",
       "0     -0.51      29.29  POINT (29.29 -0.51)\n",
       "1     -0.51      29.29  POINT (29.29 -0.51)\n",
       "2     -0.51      29.29  POINT (29.29 -0.51)\n",
       "3     -0.51      29.29  POINT (29.29 -0.51)\n",
       "4     -0.51      29.29  POINT (29.29 -0.51)"
      ]
     },
     "execution_count": 14,
     "metadata": {},
     "output_type": "execute_result"
    }
   ],
   "source": [
    "geometry = gpd.points_from_xy(data.longitude, data.latitude)\n",
    "geo_df = gpd.GeoDataFrame(\n",
    "    data[[\"latitude\", \"longitude\"]], geometry=geometry\n",
    ")\n",
    "geo_df.head()"
   ]
  },
  {
   "cell_type": "code",
   "execution_count": null,
   "metadata": {},
   "outputs": [],
   "source": [
    "# run cell to view map\n",
    "m = folium.Map(location=[data['latitude'].iloc[0], data['longitude'].iloc[0]], prefer_canvas=True)\n",
    "\n",
    "for idx, row in data.iterrows():\n",
    "    folium.CircleMarker(\n",
    "        location=(row['latitude'], row['longitude']),\n",
    "        radius=1,\n",
    "        color='blue',\n",
    "        fill=True,\n",
    "        fill_color='blue',\n",
    "        fill_opacity=0.6\n",
    "    ).add_to(m)\n"
   ]
  },
  {
   "cell_type": "markdown",
   "metadata": {},
   "source": [
    "Correlation Analysis\n",
    "\n",
    "There is not a strong correlation among these features in respect to the target (Emission)"
   ]
  },
  {
   "cell_type": "code",
   "execution_count": 15,
   "metadata": {},
   "outputs": [
    {
     "data": {
      "text/plain": [
       "emission                                                    1.000000\n",
       "longitude                                                   0.102746\n",
       "Cloud_surface_albedo                                        0.046587\n",
       "CarbonMonoxide_H2O_column_number_density                    0.043217\n",
       "CarbonMonoxide_CO_column_number_density                     0.041328\n",
       "Formaldehyde_tropospheric_HCHO_column_number_density_amf    0.040263\n",
       "NitrogenDioxide_solar_azimuth_angle                         0.033417\n",
       "Formaldehyde_tropospheric_HCHO_column_number_density        0.033333\n",
       "SulphurDioxide_solar_azimuth_angle                          0.032338\n",
       "Formaldehyde_solar_azimuth_angle                            0.030815\n",
       "Name: emission, dtype: float64"
      ]
     },
     "execution_count": 15,
     "metadata": {},
     "output_type": "execute_result"
    }
   ],
   "source": [
    "corr_features = abs(data.drop(columns=['ID_LAT_LON_YEAR_WEEK'], axis=1).corr()['emission']).sort_values(ascending = False).head(10)\n",
    "corr_features"
   ]
  },
  {
   "cell_type": "markdown",
   "metadata": {},
   "source": [
    "Categorical Analysis"
   ]
  },
  {
   "cell_type": "code",
   "execution_count": 16,
   "metadata": {},
   "outputs": [
    {
     "name": "stderr",
     "output_type": "stream",
     "text": [
      "C:\\Users\\HomePC\\AppData\\Local\\Temp\\ipykernel_17332\\4022627982.py:2: FutureWarning: The default of observed=False is deprecated and will be changed to True in a future version of pandas. Pass observed=False to retain current behavior or observed=True to adopt the future default and silence this warning.\n",
      "  grouped_data = data.groupby(column)['emission'].mean().sort_values(ascending=False).head(10)\n"
     ]
    },
    {
     "data": {
      "image/png": "[encoded data removed]",
      "text/plain": [
       "<Figure size 640x480 with 1 Axes>"
      ]
     },
     "metadata": {},
     "output_type": "display_data"
    },
    {
     "name": "stderr",
     "output_type": "stream",
     "text": [
      "C:\\Users\\HomePC\\AppData\\Local\\Temp\\ipykernel_17332\\4022627982.py:2: FutureWarning: The default of observed=False is deprecated and will be changed to True in a future version of pandas. Pass observed=False to retain current behavior or observed=True to adopt the future default and silence this warning.\n",
      "  grouped_data = data.groupby(column)['emission'].mean().sort_values(ascending=False).head(10)\n"
     ]
    },
    {
     "data": {
      "image/png": "[encoded data removed]",
      "text/plain": [
       "<Figure size 640x480 with 1 Axes>"
      ]
     },
     "metadata": {},
     "output_type": "display_data"
    }
   ],
   "source": [
    "def cat_colum(column):\n",
    "    grouped_data = data.groupby(column)['emission'].mean().sort_values(ascending=False).head(10)\n",
    "    grouped_data.plot(kind='bar', color='skyblue')\n",
    "    plt.title(f'Average CO2 Emissions by {column}')\n",
    "    plt.xlabel('Region')\n",
    "    plt.ylabel('Average CO2 Emissions')\n",
    "    plt.xticks(rotation=45)\n",
    "    plt.show()\n",
    "    \n",
    "for column in categorical_data:\n",
    "    cat_colum(column)"
   ]
  },
  {
   "cell_type": "markdown",
   "metadata": {},
   "source": [
    "<b>Feature Engineering</b>\n",
    "\n",
    "Created three features from the data.\n",
    "\n",
    "Month: derived from year and week number\n",
    "\n",
    "Is_covid: derived from year ranging from March 2020 and January 2021\n",
    "\n",
    "Is_lockdown: derived from year ranging from March-April 2024."
   ]
  },
  {
   "cell_type": "code",
   "execution_count": 17,
   "metadata": {},
   "outputs": [
    {
     "data": {
      "text/plain": [
       "(79023, 72)"
      ]
     },
     "execution_count": 17,
     "metadata": {},
     "output_type": "execute_result"
    }
   ],
   "source": [
    "data['month'] = data[['year', 'week_no']].apply(lambda row: datetime.datetime.strptime(f'{row[\"year\"]}-{row[\"week_no\"]+1}-1', \"%Y-%W-%w\").month, axis=1)\n",
    "data['is_covid'] = (data['year'] == 2020) & (data['month'] > 2) | (data['year'] == 2021) & (data['month'] == 1)\n",
    "data['is_covid'] = data['is_covid'].astype(np.int64)\n",
    "data['is_lockdown'] = (data['year'] == 2020) & ((data['month'].isin([3,4]))) \n",
    "data['is_lockdown'] = data['is_lockdown'].astype(np.int64)\n",
    "data.shape"
   ]
  },
  {
   "cell_type": "markdown",
   "metadata": {},
   "source": [
    "# 3. Encoding Scheme & PCA for Dimensionality Reduction"
   ]
  },
  {
   "cell_type": "markdown",
   "metadata": {},
   "source": [
    "Encoding categorical data"
   ]
  },
  {
   "cell_type": "code",
   "execution_count": 18,
   "metadata": {},
   "outputs": [
    {
     "data": {
      "text/plain": [
       "(79023, 122)"
      ]
     },
     "execution_count": 18,
     "metadata": {},
     "output_type": "execute_result"
    }
   ],
   "source": [
    "X = data.drop(columns=['ID_LAT_LON_YEAR_WEEK', 'emission'], axis=1)\n",
    "y = data['emission']\n",
    "\n",
    "categorical_data = X.select_dtypes(include=['category']).columns.tolist()\n",
    "onehot_encoder = OneHotEncoder(drop='first')\n",
    "encoded_data = onehot_encoder.fit_transform(X[categorical_data])\n",
    "X = X.drop(columns=categorical_data).reset_index(drop=True)\n",
    "X = pd.concat([X, pd.DataFrame(encoded_data.toarray(), columns=onehot_encoder.get_feature_names_out(categorical_data))], axis=1)\n",
    "X.shape"
   ]
  },
  {
   "cell_type": "markdown",
   "metadata": {},
   "source": [
    "Dimensinality Reduction"
   ]
  },
  {
   "cell_type": "code",
   "execution_count": 20,
   "metadata": {},
   "outputs": [
    {
     "data": {
      "image/png": "[encoded data removed]",
      "text/plain": [
       "<Figure size 800x600 with 1 Axes>"
      ]
     },
     "metadata": {},
     "output_type": "display_data"
    },
    {
     "name": "stdout",
     "output_type": "stream",
     "text": [
      "Explained Variance Ratio: [0.09024146 0.06424504 0.04472896 0.03655333 0.0352613 ]\n"
     ]
    }
   ],
   "source": [
    "X = X.ffill().bfill()\n",
    "X_scaled = StandardScaler().fit_transform(X)\n",
    "\n",
    "pca = PCA(n_components=5)\n",
    "principal_components = pca.fit_transform(X_scaled)\n",
    "\n",
    "pca_df = pd.DataFrame(data=principal_components, columns=['PC1', 'PC2', 'PC3', 'PC4', 'PC5'])\n",
    "\n",
    "plt.figure(figsize=(8,6))\n",
    "plt.scatter(pca_df['PC1'], pca_df['PC2'])\n",
    "plt.xlabel('Principal Component 1')\n",
    "plt.ylabel('Principal Component 2')\n",
    "plt.title('PCA of CO2 Emissions Data')\n",
    "plt.show()\n",
    "\n",
    "print(\"Explained Variance Ratio:\", pca.explained_variance_ratio_)"
   ]
  },
  {
   "cell_type": "code",
   "execution_count": null,
   "metadata": {},
   "outputs": [],
   "source": []
  }
 ],
 "metadata": {
  "kernelspec": {
   "display_name": "base",
   "language": "python",
   "name": "python3"
  },
  "language_info": {
   "codemirror_mode": {
    "name": "ipython",
    "version": 3
   },
   "file_extension": ".py",
   "mimetype": "text/x-python",
   "name": "python",
   "nbconvert_exporter": "python",
   "pygments_lexer": "ipython3",
   "version": "3.11.7"
  }
 },
 "nbformat": 4,
 "nbformat_minor": 2
}
